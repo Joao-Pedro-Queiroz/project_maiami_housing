{
  "cells": [
    {
      "cell_type": "markdown",
      "id": "5006f9ba",
      "metadata": {},
      "source": [
        "# Miami Housing · Projeto de Análise e Modelagem\n",
        "\n",
        "## Objetivo\n",
        "Investigar os determinantes do preço de venda de imóveis residenciais em Miami (2016), estruturando um fluxo incremental que contempla: (i) descoberta e inspeção do conjunto de dados; (ii) limpeza e padronização (*tidy*); (iii) análise exploratória com gramática de gráficos; e (iv) preparação de artefatos para etapas posteriores de modelagem preditiva e inferencial.\n",
        "\n",
        "## Equipe\n",
        "- João Pedro Queiroz Viana  \n",
        "- João Gabriel Faus Faraco\n"
      ]
    }
  ],
  "metadata": {
    "kernelspec": {
      "display_name": "Python 3",
      "language": "python",
      "name": "python3"
    },
    "language_info": {
      "name": "python",
      "version": "3.11"
    }
  },
  "nbformat": 4,
  "nbformat_minor": 5
}
