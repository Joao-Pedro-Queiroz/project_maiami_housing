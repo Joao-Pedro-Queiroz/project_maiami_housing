{
  "cells": [
    {
      "cell_type": "markdown",
      "id": "5006f9ba",
      "metadata": {},
      "source": [
        "# Miami Housing · Projeto de Análise e Modelagem\n",
        "\n",
        "## Objetivo\n",
        "Investigar os determinantes do preço de venda de imóveis residenciais em Miami (2016), estruturando um fluxo incremental que contempla: (i) descoberta e inspeção do conjunto de dados; (ii) limpeza e padronização (*tidy*); (iii) análise exploratória com gramática de gráficos; e (iv) preparação de artefatos para etapas posteriores de modelagem preditiva e inferencial.\n",
        "\n",
        "## Equipe\n",
        "- João Pedro Queiroz Viana  \n",
        "- João Gabriel Faus Faraco\n"
      ]
    },
    {
      "cell_type": "markdown",
      "id": "ae40f499",
      "metadata": {},
      "source": [
        "## Importações e configurações"
      ]
    },
    {
      "cell_type": "code",
      "execution_count": 9,
      "id": "9e83d0fb",
      "metadata": {},
      "outputs": [
        {
          "name": "stdout",
          "output_type": "stream",
          "text": [
            "data\n"
          ]
        }
      ],
      "source": [
        "from pathlib import Path\n",
        "import pandas as pd\n",
        "import numpy as np\n",
        "import matplotlib.pyplot as plt\n",
        "\n",
        "DATA_DIR = Path(\"data\")\n",
        "print(DATA_DIR)"
      ]
    },
    {
      "cell_type": "markdown",
      "id": "4639ec6e",
      "metadata": {},
      "source": [
        "## Obtendo os dados"
      ]
    },
    {
      "cell_type": "code",
      "execution_count": 12,
      "id": "26cc6244",
      "metadata": {},
      "outputs": [],
      "source": [
        "import pandas as pd\n",
        "\n",
        "\n",
        "def load_housing_data(data_dir: Path) -> pd.DataFrame:\n",
        "    '''Loads the Miami Housing dataset.\n",
        "\n",
        "    Loads the Miami Housing dataset from the specified directory.\n",
        "\n",
        "    Args:\n",
        "        data_dir: The directory from which the dataset will be loaded.\n",
        "\n",
        "    Returns:\n",
        "        A pandas DataFrame containing the California Housing Prices dataset.\n",
        "    '''\n",
        "    csv_path = data_dir / 'miami-housing.csv'\n",
        "    df = pd.read_csv(csv_path)\n",
        "    return df"
      ]
    },
    {
      "cell_type": "code",
      "execution_count": 13,
      "id": "5b64f916",
      "metadata": {},
      "outputs": [
        {
          "name": "stdout",
          "output_type": "stream",
          "text": [
            "O dataset tem 13932 linhas e 17 colunas.\n",
            "As colunas são:\n",
            "- \"LATITUDE\"\n",
            "- \"LONGITUDE\"\n",
            "- \"PARCELNO\"\n",
            "- \"SALE_PRC\"\n",
            "- \"LND_SQFOOT\"\n",
            "- \"TOT_LVG_AREA\"\n",
            "- \"SPEC_FEAT_VAL\"\n",
            "- \"RAIL_DIST\"\n",
            "- \"OCEAN_DIST\"\n",
            "- \"WATER_DIST\"\n",
            "- \"CNTR_DIST\"\n",
            "- \"SUBCNTR_DI\"\n",
            "- \"HWY_DIST\"\n",
            "- \"age\"\n",
            "- \"avno60plus\"\n",
            "- \"month_sold\"\n",
            "- \"structure_quality\"\n"
          ]
        }
      ],
      "source": [
        "data = load_housing_data(DATA_DIR)\n",
        "\n",
        "print(f'O dataset tem {data.shape[0]} linhas e {data.shape[1]} colunas.')\n",
        "print('As colunas são:')\n",
        "for column_name in data.columns:\n",
        "    print(f'- \"{column_name}\"')"
      ]
    },
    {
      "cell_type": "markdown",
      "id": "8ddd2c7d",
      "metadata": {},
      "source": [
        "## Entendimento do Negócio\n",
        "\n",
        "### O que os dados representam\n",
        "\n",
        "Este dataset (arquivo `miami-housing.csv`, 13.932 linhas × 17 colunas) contém **registros de transações imobiliárias residenciais** na região de Miami (EUA), com:\n",
        "- **Preço de venda** do imóvel,\n",
        "- **Características físicas** do lote e da área construída,\n",
        "- **Localização geográfica** (latitude/longitude),\n",
        "- **Qualidade estrutural** do imóvel,\n",
        "- **Proximidades e acessibilidade** (distâncias até mar/água, ferrovia, rodovias e centros urbanos),\n",
        "- **Atributos contextuais** (ex.: mês da venda; indicador binário relacionado a ruído/ambiente — ver nota abaixo).\n",
        "\n",
        "> **Objetivo típico de negócio:** apoiar análises de **precificação**, avaliação de **fatores que influenciam valor** (amenidades e acessibilidade), **segmentação** de portfólio e **modelagem preditiva** do preço de venda.\n",
        "\n",
        "> **Observação importante:** a coluna `avno60plus` é um indicador binário (0/1). Pelo padrão de datasets imobiliários, é **provavelmente** um marcador de **exposição a ruído acima de 60 dB** (ex.: ruído aeronáutico “60+ dB”). Recomenda-se **confirmar no dicionário de dados oficial** do projeto.\n",
        "\n",
        "---\n",
        "\n",
        "### Descrição das Colunas\n",
        "\n",
        "| Coluna              | Tipo       | Descrição de Negócio                                                                 | Unidade / Domínio                            | Exemplos / Faixa (min–max)                      |\n",
        "|---------------------|------------|--------------------------------------------------------------------------------------|-----------------------------------------------|--------------------------------------------------|\n",
        "| `LATITUDE`          | float      | Latitude geográfica do imóvel (para georreferenciamento e mapas).                   | Graus decimais                                 | 25.4343 – 25.9744                                |\n",
        "| `LONGITUDE`         | float      | Longitude geográfica do imóvel.                                                     | Graus decimais                                 | −80.5422 – −80.1198                              |\n",
        "| `PARCELNO`          | int        | Identificador cadastral do lote/parcela (parcel number).                            | ID numérico                                    | ~1.02e11 – 3.66e12                               |\n",
        "| `SALE_PRC`          | float      | **Preço de venda** do imóvel (variável-alvo comum em modelos).                      | USD                                            | **72.000 – 2.650.000**                           |\n",
        "| `LND_SQFOOT`        | int        | **Área do terreno (lote)**.                                                         | Pés quadrados                                  | 1.248 – 57.064                                   |\n",
        "| `TOT_LVG_AREA`      | int        | **Área construída habitável** (living area).                                        | Pés quadrados                                  | 854 – 6.287                                      |\n",
        "| `SPEC_FEAT_VAL`     | int        | Valor agregado por **características especiais** (ex.: piscina, lareira, deck).     | USD (valor estimado de amenidades)             | 0 – 175.020                                      |\n",
        "| `RAIL_DIST`         | float      | Distância à **ferrovia** (proxy de acessibilidade/ruído).                           | Metros (aprox.)                                | 10,5 – 29.621,5                                  |\n",
        "| `OCEAN_DIST`        | float      | Distância ao **oceano** (amenidade costeira).                                       | Metros (aprox.)                                | 236,1 – 75.744,9                                 |\n",
        "| `WATER_DIST`        | float      | Distância ao **corpo d’água** mais próximo (lagos/canais, exceto oceano).          | Metros (aprox.)                                | 0 – 50.399,8                                     |\n",
        "| `CNTR_DIST`         | float      | Distância ao **CBD** (centro principal da cidade).                                  | Metros (aprox.)                                | 3.825,6 – 159.976,5                              |\n",
        "| `SUBCNTR_DI`        | float      | Distância ao **subcentro** urbano mais próximo.                                     | Metros (aprox.)                                | 1.462,8 – 110.553,8                              |\n",
        "| `HWY_DIST`          | float      | Distância à **rodovia** mais próxima.                                               | Metros (aprox.)                                | 90,2 – 48.167,3                                  |\n",
        "| `age`               | int        | **Idade do imóvel** na data da venda.                                               | Anos                                           | 0 – 96                                           |\n",
        "| `avno60plus`        | int (0/1)  | **Indicador binário** relacionado ao ambiente; **provável** exposição a ruído ≥60 dB.| 0 = não exposto; 1 = exposto (confirmar)       | 0 ou 1 (média ~0,015)                            |\n",
        "| `month_sold`        | int        | **Mês da venda** (sazonalidade de mercado).                                         | 1–12                                           | 1 – 12 (distribuição em todos os meses)          |\n",
        "| `structure_quality` | int        | **Qualidade construtiva** em escala ordinal.                                        | Escala 1–5 (1=baixa, 5=alta)                   | 1–5 (moda ~4)                                    |\n",
        "\n",
        "### Leituras rápidas de negócio\n",
        "\n",
        "- **Preço de venda (`SALE_PRC`)** tende a ser explicado por: área construída, área do lote, qualidade, idade, amenidades (`SPEC_FEAT_VAL`) e **localização** (distâncias a mar/água/centros/rodovias).\n",
        "- **Localização importa**: menor `OCEAN_DIST` e `WATER_DIST` (maior proximidade à água) geralmente aumentam valor; já menor `RAIL_DIST`/`HWY_DIST` pode ter efeitos ambíguos (acessibilidade vs. ruído).\n",
        "- **Sazonalidade**: `month_sold` ajuda a capturar ciclos de demanda/oferta no ano.\n",
        "- **Qualidade e idade**: `structure_quality` e `age` capturam condição do imóvel; imóveis mais novos e com melhor padrão costumam precificar acima da média."
      ]
    },
    {
      "cell_type": "markdown",
      "id": "a8b40f38",
      "metadata": {},
      "source": [
        "## Análise exploratória"
      ]
    },
    {
      "cell_type": "code",
      "execution_count": null,
      "id": "4ef52f48",
      "metadata": {},
      "outputs": [],
      "source": []
    }
  ],
  "metadata": {
    "kernelspec": {
      "display_name": "Python 3",
      "language": "python",
      "name": "python3"
    },
    "language_info": {
      "name": "python",
      "version": "3.11"
    }
  },
  "nbformat": 4,
  "nbformat_minor": 5
}
